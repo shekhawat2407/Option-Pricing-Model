{
 "cells": [
  {
   "cell_type": "code",
   "execution_count": 1,
   "metadata": {},
   "outputs": [],
   "source": [
    "# Libraries\n",
    "import numpy as np\n",
    "import matplotlib.pyplot as plt\n",
    "import scipy as sp\n",
    "import random\n",
    "from scipy.stats import norm\n",
    "from scipy import log,exp,sqrt,stats"
   ]
  },
  {
   "cell_type": "code",
   "execution_count": 2,
   "metadata": {},
   "outputs": [],
   "source": [
    "s0= 100             # Stock price today\n",
    "x= 100              # Strike price\n",
    "barrier = 150       # Barrier level\n",
    "T= 1                # Maturity in years\n",
    "r=0.08              # Risk-free rate\n",
    "sigma=0.3           # Annualized volatility\n",
    "n_simulation = 51   # number of simulations\n",
    "\n",
    "#Firm specific information\n",
    "v0=200 # assumption\n",
    "sigma_firm=0.25\n",
    "debt=175\n",
    "recovery_rate=0.25\n",
    "correlation=0.2"
   ]
  },
  {
   "cell_type": "code",
   "execution_count": 3,
   "metadata": {},
   "outputs": [],
   "source": [
    "# Define black and scholes call price\n",
    "def bs_call (S,X,T,rfr,sigma):\n",
    "    \"\"\"\n",
    "       Returns: Call value under Black-Schole-Merton option model\n",
    "       Format   : bs_call(S0,K,rfr,T,sigma)\n",
    "               S: current stock price\n",
    "               X: exercise price/strike price\n",
    "               T: maturity date in years\n",
    "              rfr: risk-free rate (continusouly compounded)\n",
    "           sigma: volatiity of underlying security \n",
    "    \"\"\" \n",
    "    d1=(log(S/X)+(rfr+sigma**2/2)*T)/(sigma*sqrt(T))\n",
    "    d2 = d1-sigma*sqrt(T)\n",
    "    return S*stats.norm.cdf(d1)-X*exp(-rfr*T)*stats.norm.cdf(d2)"
   ]
  },
  {
   "cell_type": "code",
   "execution_count": 4,
   "metadata": {},
   "outputs": [],
   "source": [
    "def terminal_value(s0,rfr,sigma,Z,T):\n",
    "    \"\"\"Generates the share price at time T given some random normal values, Z\"\"\"\n",
    "    return s0*np.exp((rfr-(sigma**2)/2)*T+sigma*np.sqrt(T)*Z)"
   ]
  },
  {
   "cell_type": "code",
   "execution_count": 5,
   "metadata": {},
   "outputs": [],
   "source": [
    "def up_and_out_call(s0,x,T,r,sigma,n_simulation,barrier):\n",
    "    \"\"\"\n",
    "        Returns: Call value of an up-and-out barrier option with European call\n",
    "    \"\"\"\n",
    "    np.random.seed(123)\n",
    "    n_steps = 12 # Define number of steps.\n",
    "    dt = T/n_steps\n",
    "    total=0\n",
    "    call_est=[None]*50\n",
    "    sT_est=[None]*50\n",
    "    for j in range(1,n_simulation):\n",
    "        sT=s0\n",
    "        out=False\n",
    "        for i in range(0,int(n_steps)):\n",
    "            Z= sp.random.normal(size=j*1000)\n",
    "            sT=sT*sp.exp((r-0.5*sigma**2)*dt+sigma*Z*sp.sqrt(dt))\n",
    "            sT_est[j-1]=np.mean(sT)\n",
    "            if sT_est[j-1]>barrier:\n",
    "                out=True\n",
    "        \n",
    "        if out==False:\n",
    "            total=total+bs_call(s0,x,T,r,sigma)\n",
    "            call_est=total/n_simulation\n",
    "    return call_est"
   ]
  },
  {
   "cell_type": "code",
   "execution_count": 6,
   "metadata": {},
   "outputs": [],
   "source": [
    "def up_and_out_call_cva(s0,x,T,r,sigma,n_simulation,barrier,cva,correlation):\n",
    "    \"\"\"\n",
    "        Returns: Call value of an up-and-out barrier option with European call adjusted for CVA\n",
    "    \"\"\"\n",
    "    np.random.seed(123)\n",
    "    n_steps = 12 # Define number of steps.\n",
    "    dt = T/n_steps\n",
    "    total=0\n",
    "    call_est=[None]*50\n",
    "    sT_est=[None]*50\n",
    "    for j in range(1,n_simulation):\n",
    "        sT=s0\n",
    "        out=False\n",
    "        for i in range(0,int(n_steps)):\n",
    "            corr_matrix=np.array([[1,correlation],[correlation,1]])\n",
    "            norm_matrix=sp.random.normal(size=np.array([2,50000]))\n",
    "            corr_norm_matrix=np.matmul(np.linalg.cholesky(corr_matrix),norm_matrix)\n",
    "            sT=sT*sp.exp((r-0.5*sigma**2)*dt+sigma*corr_norm_matrix[0,]*sp.sqrt(dt))\n",
    "            sT_est[j-1]=np.mean(sT)\n",
    "            if sT_est[j-1]>barrier:\n",
    "                out=True\n",
    "        \n",
    "        if out==False:\n",
    "            total=total+bs_call(s0,x,T,r,sigma)-cva\n",
    "            call_est=total/n_simulation\n",
    "    return call_est"
   ]
  },
  {
   "cell_type": "code",
   "execution_count": 7,
   "metadata": {},
   "outputs": [
    {
     "name": "stdout",
     "output_type": "stream",
     "text": [
      "Price for the Up-and-out Call without correlation and default free is =  15.403\n"
     ]
    }
   ],
   "source": [
    "call_price = up_and_out_call(s0,x,T,r,sigma,n_simulation,barrier)\n",
    "print('Price for the Up-and-out Call without correlation and default free is = ', round(call_price,3))"
   ]
  },
  {
   "cell_type": "code",
   "execution_count": 8,
   "metadata": {},
   "outputs": [],
   "source": [
    "corr_matrix=np.array([[1,correlation],[correlation,1]])\n",
    "norm_matrix=sp.random.normal(size=np.array([2,50000]))\n",
    "corr_norm_matrix=np.matmul(np.linalg.cholesky(corr_matrix),norm_matrix)\n",
    "cva_estimates=[None]*50\n",
    "cva_std=[None]*50\n",
    "\n",
    "for k in range(1,n_simulation):\n",
    "    term_firm_value=terminal_value(v0,r,sigma_firm,corr_norm_matrix[1,],T)\n",
    "    amount_lost=sp.exp(-r*T)*(1-recovery_rate)*(term_firm_value<debt)*call_price\n",
    "    cva_estimates_corr=np.mean(amount_lost)\n",
    "    \n",
    "d1=(log(v0/debt)+(r+sigma_firm**2/2)*T)/(sigma_firm*sqrt(T))\n",
    "d2 = d1-sigma_firm*sqrt(T)\n",
    "default_prob=norm.cdf(-d2)\n",
    "uncorr_cva=(1-recovery_rate)*default_prob*call_price"
   ]
  },
  {
   "cell_type": "code",
   "execution_count": 9,
   "metadata": {},
   "outputs": [
    {
     "name": "stdout",
     "output_type": "stream",
     "text": [
      "Price for the Up-and-out Call with correlation and CVA impact is =  12.966\n"
     ]
    }
   ],
   "source": [
    "call_price_with_cva = up_and_out_call_cva(s0,x,T,r,sigma,n_simulation,barrier,cva_estimates_corr,correlation)\n",
    "print('Price for the Up-and-out Call with correlation and CVA impact is = ', round(call_price_with_cva,3))"
   ]
  }
 ],
 "metadata": {
  "kernelspec": {
   "display_name": "Python 3",
   "language": "python",
   "name": "python3"
  },
  "language_info": {
   "codemirror_mode": {
    "name": "ipython",
    "version": 3
   },
   "file_extension": ".py",
   "mimetype": "text/x-python",
   "name": "python",
   "nbconvert_exporter": "python",
   "pygments_lexer": "ipython3",
   "version": "3.7.6"
  }
 },
 "nbformat": 4,
 "nbformat_minor": 2
}
